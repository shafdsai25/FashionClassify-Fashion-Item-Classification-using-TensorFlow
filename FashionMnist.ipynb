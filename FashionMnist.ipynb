{
 "cells": [
  {
   "cell_type": "code",
   "execution_count": 1,
   "metadata": {
    "executionInfo": {
     "elapsed": 3128,
     "status": "ok",
     "timestamp": 1691905983410,
     "user": {
      "displayName": "Yuvaraju Maddiboina",
      "userId": "13345105802969388848"
     },
     "user_tz": -330
    },
    "id": "6T9ZnH5d4WtI"
   },
   "outputs": [
    {
     "name": "stderr",
     "output_type": "stream",
     "text": [
      "C:\\Users\\pakbo\\anaconda3\\lib\\site-packages\\scipy\\__init__.py:146: UserWarning: A NumPy version >=1.16.5 and <1.23.0 is required for this version of SciPy (detected version 1.24.3\n",
      "  warnings.warn(f\"A NumPy version >={np_minversion} and <{np_maxversion}\"\n"
     ]
    }
   ],
   "source": [
    "import tensorflow as tf\n",
    "from tensorflow.keras.datasets import fashion_mnist\n",
    "from tensorflow.keras.models import Sequential\n",
    "from tensorflow.keras.layers import Dense, Flatten\n",
    "from tensorflow.keras.losses import CategoricalCrossentropy\n",
    "from tensorflow.keras.optimizers import Adam\n",
    "\n",
    "\n",
    "from tensorflow.keras.utils import to_categorical"
   ]
  },
  {
   "cell_type": "markdown",
   "metadata": {
    "id": "jot1-MVC4lf3"
   },
   "source": [
    "## Import the Fashion MNIST dataset"
   ]
  },
  {
   "cell_type": "markdown",
   "metadata": {
    "id": "QIBCKF9H4p8x"
   },
   "source": [
    "This guide uses the [Fashion MNIST](https://github.com/zalandoresearch/fashion-mnist) dataset which contains 70,000 grayscale images in 10 categories. The images show individual articles of clothing at low resolution (28 by 28 pixels), as seen here:\n",
    "\n",
    "<table>\n",
    "  <tr><td>\n",
    "    <img src=\"https://tensorflow.org/images/fashion-mnist-sprite.png\"\n",
    "         alt=\"Fashion MNIST sprite\"  width=\"600\">\n",
    "  </td></tr>\n",
    "  <tr><td align=\"center\">\n",
    "    <b>Figure 1.</b> <a href=\"https://github.com/zalandoresearch/fashion-mnist\">Fashion-MNIST samples</a> (by Zalando, MIT License).<br/>&nbsp;\n",
    "  </td></tr>\n",
    "</table>\n",
    "\n",
    "\n",
    "\n",
    "Here, 60,000 images are used to train the network and 10,000 images to evaluate how accurately the network learned to classify images. You can access the Fashion MNIST directly from TensorFlow. Import and [load the Fashion MNIST data](https://www.tensorflow.org/api_docs/python/tf/keras/datasets/fashion_mnist/load_data) directly from TensorFlow:"
   ]
  },
  {
   "cell_type": "code",
   "execution_count": 2,
   "metadata": {
    "executionInfo": {
     "elapsed": 764,
     "status": "ok",
     "timestamp": 1691906150920,
     "user": {
      "displayName": "Yuvaraju Maddiboina",
      "userId": "13345105802969388848"
     },
     "user_tz": -330
    },
    "id": "aot8RpSt4q-H"
   },
   "outputs": [
    {
     "name": "stdout",
     "output_type": "stream",
     "text": [
      "Downloading data from https://storage.googleapis.com/tensorflow/tf-keras-datasets/train-labels-idx1-ubyte.gz\n",
      "29515/29515 [==============================] - 0s 0us/step\n",
      "Downloading data from https://storage.googleapis.com/tensorflow/tf-keras-datasets/train-images-idx3-ubyte.gz\n",
      "26421880/26421880 [==============================] - 3s 0us/step\n",
      "Downloading data from https://storage.googleapis.com/tensorflow/tf-keras-datasets/t10k-labels-idx1-ubyte.gz\n",
      "5148/5148 [==============================] - 0s 0s/step\n",
      "Downloading data from https://storage.googleapis.com/tensorflow/tf-keras-datasets/t10k-images-idx3-ubyte.gz\n",
      "4422102/4422102 [==============================] - 0s 0us/step\n"
     ]
    }
   ],
   "source": [
    "# Load the dataset\n",
    "(x_train, y_train), (x_test, y_test) = fashion_mnist.load_data()\n",
    "\n",
    "# Normalize pixel values to be between 0 and 1\n",
    "x_train, x_test = x_train / 255.0, x_test / 255.0\n",
    "\n",
    "# Convert labels to categorical one-hot encoding\n",
    "y_train = to_categorical(y_train, num_classes=10)\n",
    "y_test = to_categorical(y_test, num_classes=10)\n"
   ]
  },
  {
   "cell_type": "code",
   "execution_count": 3,
   "metadata": {
    "colab": {
     "base_uri": "https://localhost:8080/"
    },
    "executionInfo": {
     "elapsed": 3,
     "status": "ok",
     "timestamp": 1691906216237,
     "user": {
      "displayName": "Yuvaraju Maddiboina",
      "userId": "13345105802969388848"
     },
     "user_tz": -330
    },
    "id": "QKMFa0Hfd7rb",
    "outputId": "fcf9900d-ce61-4a59-b9f1-e2d34ba19044"
   },
   "outputs": [
    {
     "data": {
      "text/plain": [
       "array([0., 0., 0., 0., 0., 0., 0., 0., 0., 1.], dtype=float32)"
      ]
     },
     "execution_count": 3,
     "metadata": {},
     "output_type": "execute_result"
    }
   ],
   "source": [
    "y_train[0]"
   ]
  },
  {
   "cell_type": "code",
   "execution_count": 4,
   "metadata": {
    "colab": {
     "base_uri": "https://localhost:8080/",
     "height": 448
    },
    "executionInfo": {
     "elapsed": 533,
     "status": "ok",
     "timestamp": 1691909620412,
     "user": {
      "displayName": "Yuvaraju Maddiboina",
      "userId": "13345105802969388848"
     },
     "user_tz": -330
    },
    "id": "OQeSS_0Fqv-O",
    "outputId": "238659b1-b8b6-4b84-d4f9-941223657a64"
   },
   "outputs": [
    {
     "data": {
      "text/plain": [
       "<matplotlib.image.AxesImage at 0x20d9e301580>"
      ]
     },
     "execution_count": 4,
     "metadata": {},
     "output_type": "execute_result"
    },
    {
     "data": {
      "image/png": "[encoded data removed]",
      "text/plain": [
       "<Figure size 432x288 with 1 Axes>"
      ]
     },
     "metadata": {
      "needs_background": "light"
     },
     "output_type": "display_data"
    }
   ],
   "source": [
    "import matplotlib.pyplot as plt\n",
    "plt.imshow(x_train[0],cmap='gray')"
   ]
  },
  {
   "cell_type": "code",
   "execution_count": 5,
   "metadata": {
    "colab": {
     "base_uri": "https://localhost:8080/",
     "height": 452
    },
    "executionInfo": {
     "elapsed": 422,
     "status": "ok",
     "timestamp": 1691909656848,
     "user": {
      "displayName": "Yuvaraju Maddiboina",
      "userId": "13345105802969388848"
     },
     "user_tz": -330
    },
    "id": "JcsY8wBM6r2v",
    "outputId": "9e13c0e2-3bef-4d20-b1ab-c893047177f9"
   },
   "outputs": [
    {
     "data": {
      "image/png": "[encoded data removed]",
      "text/plain": [
       "<Figure size 432x288 with 2 Axes>"
      ]
     },
     "metadata": {
      "needs_background": "light"
     },
     "output_type": "display_data"
    }
   ],
   "source": [
    "import matplotlib.pyplot as plt\n",
    "import numpy as np\n",
    "\n",
    "# Define class names for Fashion MNIST\n",
    "class_names = [\n",
    "    \"T-shirt/top\", \"Trouser\", \"Pullover\", \"Dress\", \"Coat\",\n",
    "    \"Sandal\", \"Shirt\", \"Sneaker\", \"Bag\", \"Ankle boot\"\n",
    "]\n",
    "\n",
    "# Choose a random index from the dataset\n",
    "index = np.random.randint(0, len(x_train))\n",
    "\n",
    "# Get the image and label\n",
    "image = x_train[index]\n",
    "label = np.argmax(y_train[index])  # Convert one-hot encoded label to class index\n",
    "\n",
    "# Plot the image\n",
    "plt.figure()\n",
    "plt.imshow(image, cmap='gray')\n",
    "plt.title(class_names[label])\n",
    "plt.colorbar()\n",
    "plt.show()\n"
   ]
  },
  {
   "cell_type": "code",
   "execution_count": 6,
   "metadata": {
    "executionInfo": {
     "elapsed": 579,
     "status": "ok",
     "timestamp": 1691909757249,
     "user": {
      "displayName": "Yuvaraju Maddiboina",
      "userId": "13345105802969388848"
     },
     "user_tz": -330
    },
    "id": "lnBqxN5g40md"
   },
   "outputs": [],
   "source": [
    "# Create a Sequential model\n",
    "model = Sequential([\n",
    "    Flatten(input_shape=(28, 28)),  # Flatten layer to convert 2D images to 1D array\n",
    "    Dense(256, activation='relu'),\n",
    "    Dense(128, activation='relu'),  # Fully connected Dense layer with 128 neurons and ReLU activation\n",
    "\n",
    "    Dense(64, activation='relu'),   # Fully connected Dense layer with 64 neurons and ReLU activation\n",
    "\n",
    "    Dense(10, activation='softmax') # Fully connected Dense layer with 10 neurons and softmax activation\n",
    "])\n"
   ]
  },
  {
   "cell_type": "code",
   "execution_count": 7,
   "metadata": {
    "executionInfo": {
     "elapsed": 345,
     "status": "ok",
     "timestamp": 1691909818121,
     "user": {
      "displayName": "Yuvaraju Maddiboina",
      "userId": "13345105802969388848"
     },
     "user_tz": -330
    },
    "id": "4n294GZ05270"
   },
   "outputs": [],
   "source": [
    "model.compile(optimizer=Adam(),            # Compile the model with the Adam optimizer\n",
    "              loss=CategoricalCrossentropy(), # Use Categorical Crossentropy loss function\n",
    "              metrics=['accuracy'])           # Evaluate and display accuracy during training\n"
   ]
  },
  {
   "cell_type": "code",
   "execution_count": 8,
   "metadata": {
    "colab": {
     "base_uri": "https://localhost:8080/"
    },
    "executionInfo": {
     "elapsed": 377,
     "status": "ok",
     "timestamp": 1691909839522,
     "user": {
      "displayName": "Yuvaraju Maddiboina",
      "userId": "13345105802969388848"
     },
     "user_tz": -330
    },
    "id": "RIgcnu8V9Z6X",
    "outputId": "2e75371d-bca4-451d-a992-245869a1f96d"
   },
   "outputs": [
    {
     "name": "stdout",
     "output_type": "stream",
     "text": [
      "Model: \"sequential\"\n",
      "_________________________________________________________________\n",
      " Layer (type)                Output Shape              Param #   \n",
      "=================================================================\n",
      " flatten (Flatten)           (None, 784)               0         \n",
      "                                                                 \n",
      " dense (Dense)               (None, 256)               200960    \n",
      "                                                                 \n",
      " dense_1 (Dense)             (None, 128)               32896     \n",
      "                                                                 \n",
      " dense_2 (Dense)             (None, 64)                8256      \n",
      "                                                                 \n",
      " dense_3 (Dense)             (None, 10)                650       \n",
      "                                                                 \n",
      "=================================================================\n",
      "Total params: 242762 (948.29 KB)\n",
      "Trainable params: 242762 (948.29 KB)\n",
      "Non-trainable params: 0 (0.00 Byte)\n",
      "_________________________________________________________________\n"
     ]
    }
   ],
   "source": [
    "model.summary()  # Display a summary of the model's architecture, including layer information and parameters"
   ]
  },
  {
   "cell_type": "code",
   "execution_count": 9,
   "metadata": {
    "colab": {
     "base_uri": "https://localhost:8080/",
     "height": 533
    },
    "executionInfo": {
     "elapsed": 510,
     "status": "ok",
     "timestamp": 1691909888746,
     "user": {
      "displayName": "Yuvaraju Maddiboina",
      "userId": "13345105802969388848"
     },
     "user_tz": -330
    },
    "id": "Bv_Bm-CV9oHN",
    "outputId": "62162c12-b275-45be-a2d6-17a9c7231b11"
   },
   "outputs": [
    {
     "name": "stdout",
     "output_type": "stream",
     "text": [
      "You must install pydot (`pip install pydot`) and install graphviz (see instructions at https://graphviz.gitlab.io/download/) for plot_model to work.\n"
     ]
    }
   ],
   "source": [
    "from tensorflow.keras.utils import plot_model\n",
    "\n",
    "# Plot the model architecture\n",
    "plot_model(model, to_file='model.png', show_shapes=True, show_layer_names=True)\n"
   ]
  },
  {
   "cell_type": "code",
   "execution_count": 10,
   "metadata": {
    "colab": {
     "base_uri": "https://localhost:8080/"
    },
    "executionInfo": {
     "elapsed": 42511,
     "status": "ok",
     "timestamp": 1691910067620,
     "user": {
      "displayName": "Yuvaraju Maddiboina",
      "userId": "13345105802969388848"
     },
     "user_tz": -330
    },
    "id": "k_wm2Abb59em",
    "outputId": "104a1e39-4295-4a34-9837-b9a30d302fb0"
   },
   "outputs": [
    {
     "name": "stdout",
     "output_type": "stream",
     "text": [
      "Epoch 1/10\n",
      "750/750 [==============================] - 4s 4ms/step - loss: 0.5186 - accuracy: 0.8144 - val_loss: 0.3994 - val_accuracy: 0.8569\n",
      "Epoch 2/10\n",
      "750/750 [==============================] - 3s 4ms/step - loss: 0.3735 - accuracy: 0.8651 - val_loss: 0.3738 - val_accuracy: 0.8690\n",
      "Epoch 3/10\n",
      "750/750 [==============================] - 3s 3ms/step - loss: 0.3322 - accuracy: 0.8754 - val_loss: 0.3881 - val_accuracy: 0.8549\n",
      "Epoch 4/10\n",
      "750/750 [==============================] - 3s 3ms/step - loss: 0.3132 - accuracy: 0.8822 - val_loss: 0.3374 - val_accuracy: 0.8742\n",
      "Epoch 5/10\n",
      "750/750 [==============================] - 2s 3ms/step - loss: 0.2914 - accuracy: 0.8908 - val_loss: 0.3474 - val_accuracy: 0.8754\n",
      "Epoch 6/10\n",
      "750/750 [==============================] - 3s 4ms/step - loss: 0.2778 - accuracy: 0.8965 - val_loss: 0.3286 - val_accuracy: 0.8804\n",
      "Epoch 7/10\n",
      "750/750 [==============================] - 3s 4ms/step - loss: 0.2647 - accuracy: 0.9005 - val_loss: 0.3496 - val_accuracy: 0.8756\n",
      "Epoch 8/10\n",
      "750/750 [==============================] - 3s 4ms/step - loss: 0.2544 - accuracy: 0.9048 - val_loss: 0.3226 - val_accuracy: 0.8870\n",
      "Epoch 9/10\n",
      "750/750 [==============================] - 3s 4ms/step - loss: 0.2446 - accuracy: 0.9074 - val_loss: 0.3227 - val_accuracy: 0.8855\n",
      "Epoch 10/10\n",
      "750/750 [==============================] - 3s 4ms/step - loss: 0.2330 - accuracy: 0.9124 - val_loss: 0.3116 - val_accuracy: 0.8884\n"
     ]
    }
   ],
   "source": [
    "num_epochs = 10        # Number of training epochs\n",
    "batch_size = 64        # Number of samples in each training batch\n",
    "\n",
    "# Train the model on the training data and validate using a portion of it\n",
    "history = model.fit(x_train, y_train,            # Training data and labels\n",
    "                    epochs=num_epochs,           # Number of epochs to train\n",
    "                    batch_size=batch_size,       # Number of samples in each batch\n",
    "                    validation_split=0.2)        # Fraction of training data to use for validation\n"
   ]
  },
  {
   "cell_type": "code",
   "execution_count": 11,
   "metadata": {
    "id": "H0uIXDmd7O4y"
   },
   "outputs": [],
   "source": [
    "# # Get loss values from training history\n",
    "# train_loss = history.history['loss']\n",
    "# val_loss = history.history['val_loss']\n",
    "# epochs = range(1, num_epochs + 1)\n",
    "\n",
    "# # Plot loss vs. epoch\n",
    "# plt.figure()\n",
    "# plt.plot(epochs, train_loss, 'g', label='Training loss')\n",
    "# plt.plot(epochs, val_loss, 'b', label='Validation loss')\n",
    "# plt.title('Training and Validation Loss')\n",
    "# plt.xlabel('Epochs')\n",
    "# plt.ylabel('Loss')\n",
    "# plt.legend()\n",
    "# plt.show()"
   ]
  },
  {
   "cell_type": "code",
   "execution_count": 12,
   "metadata": {
    "colab": {
     "base_uri": "https://localhost:8080/"
    },
    "executionInfo": {
     "elapsed": 915,
     "status": "ok",
     "timestamp": 1691910075504,
     "user": {
      "displayName": "Yuvaraju Maddiboina",
      "userId": "13345105802969388848"
     },
     "user_tz": -330
    },
    "id": "9wZlMWfb6ACr",
    "outputId": "52800ba7-a1d6-444d-db70-545bc11e368f"
   },
   "outputs": [
    {
     "name": "stdout",
     "output_type": "stream",
     "text": [
      "313/313 - 0s - loss: 0.3441 - accuracy: 0.8784 - 298ms/epoch - 951us/step\n",
      "\n",
      "Test accuracy: 0.8784000277519226\n"
     ]
    }
   ],
   "source": [
    "test_loss, test_acc = model.evaluate(x_test, y_test, verbose=2)\n",
    "print(\"\\nTest accuracy:\", test_acc)"
   ]
  },
  {
   "cell_type": "code",
   "execution_count": 13,
   "metadata": {
    "colab": {
     "base_uri": "https://localhost:8080/",
     "height": 210
    },
    "executionInfo": {
     "elapsed": 1213,
     "status": "ok",
     "timestamp": 1691910140629,
     "user": {
      "displayName": "Yuvaraju Maddiboina",
      "userId": "13345105802969388848"
     },
     "user_tz": -330
    },
    "id": "hDRHjcXk6CzA",
    "outputId": "4243b4ad-3248-4671-e29f-571835f84cd8"
   },
   "outputs": [
    {
     "name": "stdout",
     "output_type": "stream",
     "text": [
      "1/1 [==============================] - 0s 64ms/step\n"
     ]
    },
    {
     "data": {
      "image/png": "[encoded data removed]",
      "text/plain": [
       "<Figure size 720x360 with 5 Axes>"
      ]
     },
     "metadata": {
      "needs_background": "light"
     },
     "output_type": "display_data"
    }
   ],
   "source": [
    "\n",
    "# Predict on some test images\n",
    "num_images_to_predict = 5\n",
    "\n",
    "random_indices = np.random.randint(0, len(x_test), size=num_images_to_predict)\n",
    "\n",
    "\n",
    "test_images = x_test[random_indices]\n",
    "predicted_labels = model.predict(test_images)\n",
    "predicted_classes = np.argmax(predicted_labels, axis=1)\n",
    "\n",
    "# Display the images along with predicted classes\n",
    "plt.figure(figsize=(10, 5))\n",
    "for i in range(num_images_to_predict):\n",
    "    plt.subplot(1, num_images_to_predict, i + 1)\n",
    "    plt.imshow(test_images[i], cmap='gray')\n",
    "    plt.title(class_names[predicted_classes[i]])\n",
    "    plt.axis('off')\n",
    "plt.show()\n"
   ]
  },
  {
   "cell_type": "code",
   "execution_count": null,
   "metadata": {
    "id": "oWpJNmYM8aBd"
   },
   "outputs": [],
   "source": []
  }
 ],
 "metadata": {
  "colab": {
   "authorship_tag": "ABX9TyM58vRRxjzGb/axt2ECgdLv",
   "provenance": []
  },
  "kernelspec": {
   "display_name": "Python 3 (ipykernel)",
   "language": "python",
   "name": "python3"
  },
  "language_info": {
   "codemirror_mode": {
    "name": "ipython",
    "version": 3
   },
   "file_extension": ".py",
   "mimetype": "text/x-python",
   "name": "python",
   "nbconvert_exporter": "python",
   "pygments_lexer": "ipython3",
   "version": "3.9.12"
  }
 },
 "nbformat": 4,
 "nbformat_minor": 1
}
